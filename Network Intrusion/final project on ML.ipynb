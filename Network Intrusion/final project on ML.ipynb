{
 "cells": [
  {
   "cell_type": "markdown",
   "metadata": {
    "papermill": {
     "duration": 0.022645,
     "end_time": "2021-03-04T13:49:44.653368",
     "exception": false,
     "start_time": "2021-03-04T13:49:44.630723",
     "status": "completed"
    },
    "tags": []
   },
   "source": [
    "The purpose of this notebook is a basic exploration of the NSL-KDD dataset. Here are the goals of this exploration:\n",
    "\n",
    "* Gain a basic understanding of the data set\n",
    "* Look at how the data set might be used to predict network anomalies or attacks\n",
    "* Walk through some fundemental concepts of building machine learning models like Logistic Regression and Decision Tree classifier\n",
    "* Compare the performance of selected feature engineering techniques."
   ]
  },
  {
   "cell_type": "code",
   "execution_count": 1,
   "metadata": {
    "_cell_guid": "b1076dfc-b9ad-4769-8c92-a6c4dae69d19",
    "_uuid": "8f2839f25d086af736a60e9eeb907d3b93b6e0e5",
    "execution": {
     "iopub.execute_input": "2021-03-04T13:49:44.703482Z",
     "iopub.status.busy": "2021-03-04T13:49:44.702825Z",
     "iopub.status.idle": "2021-03-04T13:49:44.722164Z",
     "shell.execute_reply": "2021-03-04T13:49:44.721479Z"
    },
    "papermill": {
     "duration": 0.047471,
     "end_time": "2021-03-04T13:49:44.722355",
     "exception": false,
     "start_time": "2021-03-04T13:49:44.674884",
     "status": "completed"
    },
    "tags": []
   },
   "outputs": [
    {
     "name": "stdout",
     "output_type": "stream",
     "text": [
      "/kaggle/input/nslkdd/KDDTest+.arff\n",
      "/kaggle/input/nslkdd/KDDTest-21.arff\n",
      "/kaggle/input/nslkdd/KDDTest1.jpg\n",
      "/kaggle/input/nslkdd/KDDTrain+.txt\n",
      "/kaggle/input/nslkdd/KDDTrain+_20Percent.txt\n",
      "/kaggle/input/nslkdd/KDDTest-21.txt\n",
      "/kaggle/input/nslkdd/KDDTest+.txt\n",
      "/kaggle/input/nslkdd/KDDTrain+.arff\n",
      "/kaggle/input/nslkdd/index.html\n",
      "/kaggle/input/nslkdd/KDDTrain+_20Percent.arff\n",
      "/kaggle/input/nslkdd/KDDTrain1.jpg\n",
      "/kaggle/input/nslkdd/nsl-kdd/KDDTest+.arff\n",
      "/kaggle/input/nslkdd/nsl-kdd/KDDTest-21.arff\n",
      "/kaggle/input/nslkdd/nsl-kdd/KDDTest1.jpg\n",
      "/kaggle/input/nslkdd/nsl-kdd/KDDTrain+.txt\n",
      "/kaggle/input/nslkdd/nsl-kdd/KDDTrain+_20Percent.txt\n",
      "/kaggle/input/nslkdd/nsl-kdd/KDDTest-21.txt\n",
      "/kaggle/input/nslkdd/nsl-kdd/KDDTest+.txt\n",
      "/kaggle/input/nslkdd/nsl-kdd/KDDTrain+.arff\n",
      "/kaggle/input/nslkdd/nsl-kdd/index.html\n",
      "/kaggle/input/nslkdd/nsl-kdd/KDDTrain+_20Percent.arff\n",
      "/kaggle/input/nslkdd/nsl-kdd/KDDTrain1.jpg\n"
     ]
    }
   ],
   "source": [
    "# This Python 3 environment comes with many helpful analytics libraries installed\n",
    "# It is defined by the kaggle/python Docker image: https://github.com/kaggle/docker-python\n",
    "# For example, here's several helpful packages to load\n",
    "\n",
    "import numpy as np # linear algebra\n",
    "import pandas as pd # data processing, CSV file I/O (e.g. pd.read_csv)\n",
    "\n",
    "# Input data files are available in the read-only \"../input/\" directory\n",
    "# For example, running this (by clicking run or pressing Shift+Enter) will list all files under the input directory\n",
    "\n",
    "import os\n",
    "for dirname, _, filenames in os.walk('/kaggle/input'):\n",
    "    for filename in filenames:\n",
    "        print(os.path.join(dirname, filename))\n",
    "\n",
    "# You can write up to 20GB to the current directory (/kaggle/working/) that gets preserved as output when you create a version using \"Save & Run All\" \n",
    "# You can also write temporary files to /kaggle/temp/, but they won't be saved outside of the current session"
   ]
  },
  {
   "cell_type": "markdown",
   "metadata": {
    "papermill": {
     "duration": 0.02175,
     "end_time": "2021-03-04T13:49:44.766895",
     "exception": false,
     "start_time": "2021-03-04T13:49:44.745145",
     "status": "completed"
    },
    "tags": []
   },
   "source": [
    "Importing libraries"
   ]
  },
  {
   "cell_type": "code",
   "execution_count": 2,
   "metadata": {
    "execution": {
     "iopub.execute_input": "2021-03-04T13:49:44.817344Z",
     "iopub.status.busy": "2021-03-04T13:49:44.816405Z",
     "iopub.status.idle": "2021-03-04T13:49:45.938962Z",
     "shell.execute_reply": "2021-03-04T13:49:45.938250Z"
    },
    "papermill": {
     "duration": 1.150229,
     "end_time": "2021-03-04T13:49:45.939232",
     "exception": false,
     "start_time": "2021-03-04T13:49:44.789003",
     "status": "completed"
    },
    "tags": []
   },
   "outputs": [],
   "source": [
    "import matplotlib.pyplot as plt\n",
    "import seaborn as sns\n",
    "import itertools\n",
    "import random\n",
    "\n",
    "# model imports\n",
    "from sklearn.tree import DecisionTreeClassifier\n",
    "from sklearn.linear_model import LogisticRegression\n",
    "\n",
    "# processing imports\n",
    "from sklearn.preprocessing import LabelEncoder\n",
    "from sklearn.model_selection import train_test_split\n",
    "from sklearn.model_selection import cross_val_score\n",
    "from sklearn.metrics import mean_absolute_error\n",
    "from sklearn.metrics import accuracy_score\n",
    "from sklearn.metrics import confusion_matrix"
   ]
  },
  {
   "cell_type": "markdown",
   "metadata": {
    "papermill": {
     "duration": 0.02178,
     "end_time": "2021-03-04T13:49:45.984864",
     "exception": false,
     "start_time": "2021-03-04T13:49:45.963084",
     "status": "completed"
    },
    "tags": []
   },
   "source": [
    "Data extraction"
   ]
  },
  {
   "cell_type": "code",
   "execution_count": 3,
   "metadata": {
    "execution": {
     "iopub.execute_input": "2021-03-04T13:49:46.034803Z",
     "iopub.status.busy": "2021-03-04T13:49:46.034148Z",
     "iopub.status.idle": "2021-03-04T13:49:46.937800Z",
     "shell.execute_reply": "2021-03-04T13:49:46.938321Z"
    },
    "papermill": {
     "duration": 0.931587,
     "end_time": "2021-03-04T13:49:46.938515",
     "exception": false,
     "start_time": "2021-03-04T13:49:46.006928",
     "status": "completed"
    },
    "tags": []
   },
   "outputs": [],
   "source": [
    "# fetch the training file\n",
    "file_path_20_percent = '../input/nslkdd/KDDTrain+_20Percent.txt'\n",
    "file_path_full_training_set = '../input/nslkdd/KDDTrain+.txt'\n",
    "file_path_test = '../input/nslkdd/KDDTest+.txt' \n",
    "\n",
    "#df = pd.read_csv(file_path_20_percent)\n",
    "df = pd.read_csv(file_path_full_training_set)\n",
    "test_df = pd.read_csv(file_path_test)"
   ]
  },
  {
   "cell_type": "code",
   "execution_count": 4,
   "metadata": {
    "execution": {
     "iopub.execute_input": "2021-03-04T13:49:46.987242Z",
     "iopub.status.busy": "2021-03-04T13:49:46.986288Z",
     "iopub.status.idle": "2021-03-04T13:49:47.036332Z",
     "shell.execute_reply": "2021-03-04T13:49:47.036966Z"
    },
    "papermill": {
     "duration": 0.076176,
     "end_time": "2021-03-04T13:49:47.037215",
     "exception": false,
     "start_time": "2021-03-04T13:49:46.961039",
     "status": "completed"
    },
    "tags": []
   },
   "outputs": [
    {
     "data": {
      "text/html": [
       "<div>\n",
       "<style scoped>\n",
       "    .dataframe tbody tr th:only-of-type {\n",
       "        vertical-align: middle;\n",
       "    }\n",
       "\n",
       "    .dataframe tbody tr th {\n",
       "        vertical-align: top;\n",
       "    }\n",
       "\n",
       "    .dataframe thead th {\n",
       "        text-align: right;\n",
       "    }\n",
       "</style>\n",
       "<table border=\"1\" class=\"dataframe\">\n",
       "  <thead>\n",
       "    <tr style=\"text-align: right;\">\n",
       "      <th></th>\n",
       "      <th>duration</th>\n",
       "      <th>protocol_type</th>\n",
       "      <th>service</th>\n",
       "      <th>flag</th>\n",
       "      <th>src_bytes</th>\n",
       "      <th>dst_bytes</th>\n",
       "      <th>land</th>\n",
       "      <th>wrong_fragment</th>\n",
       "      <th>urgent</th>\n",
       "      <th>hot</th>\n",
       "      <th>...</th>\n",
       "      <th>dst_host_same_srv_rate</th>\n",
       "      <th>dst_host_diff_srv_rate</th>\n",
       "      <th>dst_host_same_src_port_rate</th>\n",
       "      <th>dst_host_srv_diff_host_rate</th>\n",
       "      <th>dst_host_serror_rate</th>\n",
       "      <th>dst_host_srv_serror_rate</th>\n",
       "      <th>dst_host_rerror_rate</th>\n",
       "      <th>dst_host_srv_rerror_rate</th>\n",
       "      <th>attack</th>\n",
       "      <th>level</th>\n",
       "    </tr>\n",
       "  </thead>\n",
       "  <tbody>\n",
       "    <tr>\n",
       "      <th>0</th>\n",
       "      <td>0</td>\n",
       "      <td>udp</td>\n",
       "      <td>other</td>\n",
       "      <td>SF</td>\n",
       "      <td>146</td>\n",
       "      <td>0</td>\n",
       "      <td>0</td>\n",
       "      <td>0</td>\n",
       "      <td>0</td>\n",
       "      <td>0</td>\n",
       "      <td>...</td>\n",
       "      <td>0.00</td>\n",
       "      <td>0.60</td>\n",
       "      <td>0.88</td>\n",
       "      <td>0.00</td>\n",
       "      <td>0.00</td>\n",
       "      <td>0.00</td>\n",
       "      <td>0.0</td>\n",
       "      <td>0.00</td>\n",
       "      <td>normal</td>\n",
       "      <td>15</td>\n",
       "    </tr>\n",
       "    <tr>\n",
       "      <th>1</th>\n",
       "      <td>0</td>\n",
       "      <td>tcp</td>\n",
       "      <td>private</td>\n",
       "      <td>S0</td>\n",
       "      <td>0</td>\n",
       "      <td>0</td>\n",
       "      <td>0</td>\n",
       "      <td>0</td>\n",
       "      <td>0</td>\n",
       "      <td>0</td>\n",
       "      <td>...</td>\n",
       "      <td>0.10</td>\n",
       "      <td>0.05</td>\n",
       "      <td>0.00</td>\n",
       "      <td>0.00</td>\n",
       "      <td>1.00</td>\n",
       "      <td>1.00</td>\n",
       "      <td>0.0</td>\n",
       "      <td>0.00</td>\n",
       "      <td>neptune</td>\n",
       "      <td>19</td>\n",
       "    </tr>\n",
       "    <tr>\n",
       "      <th>2</th>\n",
       "      <td>0</td>\n",
       "      <td>tcp</td>\n",
       "      <td>http</td>\n",
       "      <td>SF</td>\n",
       "      <td>232</td>\n",
       "      <td>8153</td>\n",
       "      <td>0</td>\n",
       "      <td>0</td>\n",
       "      <td>0</td>\n",
       "      <td>0</td>\n",
       "      <td>...</td>\n",
       "      <td>1.00</td>\n",
       "      <td>0.00</td>\n",
       "      <td>0.03</td>\n",
       "      <td>0.04</td>\n",
       "      <td>0.03</td>\n",
       "      <td>0.01</td>\n",
       "      <td>0.0</td>\n",
       "      <td>0.01</td>\n",
       "      <td>normal</td>\n",
       "      <td>21</td>\n",
       "    </tr>\n",
       "    <tr>\n",
       "      <th>3</th>\n",
       "      <td>0</td>\n",
       "      <td>tcp</td>\n",
       "      <td>http</td>\n",
       "      <td>SF</td>\n",
       "      <td>199</td>\n",
       "      <td>420</td>\n",
       "      <td>0</td>\n",
       "      <td>0</td>\n",
       "      <td>0</td>\n",
       "      <td>0</td>\n",
       "      <td>...</td>\n",
       "      <td>1.00</td>\n",
       "      <td>0.00</td>\n",
       "      <td>0.00</td>\n",
       "      <td>0.00</td>\n",
       "      <td>0.00</td>\n",
       "      <td>0.00</td>\n",
       "      <td>0.0</td>\n",
       "      <td>0.00</td>\n",
       "      <td>normal</td>\n",
       "      <td>21</td>\n",
       "    </tr>\n",
       "    <tr>\n",
       "      <th>4</th>\n",
       "      <td>0</td>\n",
       "      <td>tcp</td>\n",
       "      <td>private</td>\n",
       "      <td>REJ</td>\n",
       "      <td>0</td>\n",
       "      <td>0</td>\n",
       "      <td>0</td>\n",
       "      <td>0</td>\n",
       "      <td>0</td>\n",
       "      <td>0</td>\n",
       "      <td>...</td>\n",
       "      <td>0.07</td>\n",
       "      <td>0.07</td>\n",
       "      <td>0.00</td>\n",
       "      <td>0.00</td>\n",
       "      <td>0.00</td>\n",
       "      <td>0.00</td>\n",
       "      <td>1.0</td>\n",
       "      <td>1.00</td>\n",
       "      <td>neptune</td>\n",
       "      <td>21</td>\n",
       "    </tr>\n",
       "  </tbody>\n",
       "</table>\n",
       "<p>5 rows × 43 columns</p>\n",
       "</div>"
      ],
      "text/plain": [
       "   duration protocol_type  service flag  src_bytes  dst_bytes  land  \\\n",
       "0         0           udp    other   SF        146          0     0   \n",
       "1         0           tcp  private   S0          0          0     0   \n",
       "2         0           tcp     http   SF        232       8153     0   \n",
       "3         0           tcp     http   SF        199        420     0   \n",
       "4         0           tcp  private  REJ          0          0     0   \n",
       "\n",
       "   wrong_fragment  urgent  hot  ...  dst_host_same_srv_rate  \\\n",
       "0               0       0    0  ...                    0.00   \n",
       "1               0       0    0  ...                    0.10   \n",
       "2               0       0    0  ...                    1.00   \n",
       "3               0       0    0  ...                    1.00   \n",
       "4               0       0    0  ...                    0.07   \n",
       "\n",
       "   dst_host_diff_srv_rate  dst_host_same_src_port_rate  \\\n",
       "0                    0.60                         0.88   \n",
       "1                    0.05                         0.00   \n",
       "2                    0.00                         0.03   \n",
       "3                    0.00                         0.00   \n",
       "4                    0.07                         0.00   \n",
       "\n",
       "   dst_host_srv_diff_host_rate  dst_host_serror_rate  \\\n",
       "0                         0.00                  0.00   \n",
       "1                         0.00                  1.00   \n",
       "2                         0.04                  0.03   \n",
       "3                         0.00                  0.00   \n",
       "4                         0.00                  0.00   \n",
       "\n",
       "   dst_host_srv_serror_rate  dst_host_rerror_rate  dst_host_srv_rerror_rate  \\\n",
       "0                      0.00                   0.0                      0.00   \n",
       "1                      1.00                   0.0                      0.00   \n",
       "2                      0.01                   0.0                      0.01   \n",
       "3                      0.00                   0.0                      0.00   \n",
       "4                      0.00                   1.0                      1.00   \n",
       "\n",
       "    attack  level  \n",
       "0   normal     15  \n",
       "1  neptune     19  \n",
       "2   normal     21  \n",
       "3   normal     21  \n",
       "4  neptune     21  \n",
       "\n",
       "[5 rows x 43 columns]"
      ]
     },
     "execution_count": 4,
     "metadata": {},
     "output_type": "execute_result"
    }
   ],
   "source": [
    "# add the column labels\n",
    "columns = (['duration'\n",
    ",'protocol_type'\n",
    ",'service'\n",
    ",'flag'\n",
    ",'src_bytes'\n",
    ",'dst_bytes'\n",
    ",'land'\n",
    ",'wrong_fragment'\n",
    ",'urgent'\n",
    ",'hot'\n",
    ",'num_failed_logins'\n",
    ",'logged_in'\n",
    ",'num_compromised'\n",
    ",'root_shell'\n",
    ",'su_attempted'\n",
    ",'num_root'\n",
    ",'num_file_creations'\n",
    ",'num_shells'\n",
    ",'num_access_files'\n",
    ",'num_outbound_cmds'\n",
    ",'is_host_login'\n",
    ",'is_guest_login'\n",
    ",'count'\n",
    ",'srv_count'\n",
    ",'serror_rate'\n",
    ",'srv_serror_rate'\n",
    ",'rerror_rate'\n",
    ",'srv_rerror_rate'\n",
    ",'same_srv_rate'\n",
    ",'diff_srv_rate'\n",
    ",'srv_diff_host_rate'\n",
    ",'dst_host_count'\n",
    ",'dst_host_srv_count'\n",
    ",'dst_host_same_srv_rate'\n",
    ",'dst_host_diff_srv_rate'\n",
    ",'dst_host_same_src_port_rate'\n",
    ",'dst_host_srv_diff_host_rate'\n",
    ",'dst_host_serror_rate'\n",
    ",'dst_host_srv_serror_rate'\n",
    ",'dst_host_rerror_rate'\n",
    ",'dst_host_srv_rerror_rate'\n",
    ",'attack'\n",
    ",'level'])\n",
    "\n",
    "df.columns = columns\n",
    "test_df.columns = columns\n",
    "\n",
    "# sanity check\n",
    "df.head()"
   ]
  },
  {
   "cell_type": "markdown",
   "metadata": {
    "papermill": {
     "duration": 0.023162,
     "end_time": "2021-03-04T13:49:47.084409",
     "exception": false,
     "start_time": "2021-03-04T13:49:47.061247",
     "status": "completed"
    },
    "tags": []
   },
   "source": [
    "Data transformation - The first transformations that we'll want to do are around the attack field. We'll start by adding a column that encodes 'normal' values as 0 and any other value as 1. We will use this as our classifier for a simple binary model that idenfities any attack."
   ]
  },
  {
   "cell_type": "code",
   "execution_count": 5,
   "metadata": {
    "execution": {
     "iopub.execute_input": "2021-03-04T13:49:47.136868Z",
     "iopub.status.busy": "2021-03-04T13:49:47.136103Z",
     "iopub.status.idle": "2021-03-04T13:49:47.255699Z",
     "shell.execute_reply": "2021-03-04T13:49:47.255012Z"
    },
    "papermill": {
     "duration": 0.148554,
     "end_time": "2021-03-04T13:49:47.255842",
     "exception": false,
     "start_time": "2021-03-04T13:49:47.107288",
     "status": "completed"
    },
    "tags": []
   },
   "outputs": [
    {
     "data": {
      "text/html": [
       "<div>\n",
       "<style scoped>\n",
       "    .dataframe tbody tr th:only-of-type {\n",
       "        vertical-align: middle;\n",
       "    }\n",
       "\n",
       "    .dataframe tbody tr th {\n",
       "        vertical-align: top;\n",
       "    }\n",
       "\n",
       "    .dataframe thead th {\n",
       "        text-align: right;\n",
       "    }\n",
       "</style>\n",
       "<table border=\"1\" class=\"dataframe\">\n",
       "  <thead>\n",
       "    <tr style=\"text-align: right;\">\n",
       "      <th></th>\n",
       "      <th>duration</th>\n",
       "      <th>protocol_type</th>\n",
       "      <th>service</th>\n",
       "      <th>flag</th>\n",
       "      <th>src_bytes</th>\n",
       "      <th>dst_bytes</th>\n",
       "      <th>land</th>\n",
       "      <th>wrong_fragment</th>\n",
       "      <th>urgent</th>\n",
       "      <th>hot</th>\n",
       "      <th>...</th>\n",
       "      <th>dst_host_diff_srv_rate</th>\n",
       "      <th>dst_host_same_src_port_rate</th>\n",
       "      <th>dst_host_srv_diff_host_rate</th>\n",
       "      <th>dst_host_serror_rate</th>\n",
       "      <th>dst_host_srv_serror_rate</th>\n",
       "      <th>dst_host_rerror_rate</th>\n",
       "      <th>dst_host_srv_rerror_rate</th>\n",
       "      <th>attack</th>\n",
       "      <th>level</th>\n",
       "      <th>attack_flag</th>\n",
       "    </tr>\n",
       "  </thead>\n",
       "  <tbody>\n",
       "    <tr>\n",
       "      <th>0</th>\n",
       "      <td>0</td>\n",
       "      <td>udp</td>\n",
       "      <td>other</td>\n",
       "      <td>SF</td>\n",
       "      <td>146</td>\n",
       "      <td>0</td>\n",
       "      <td>0</td>\n",
       "      <td>0</td>\n",
       "      <td>0</td>\n",
       "      <td>0</td>\n",
       "      <td>...</td>\n",
       "      <td>0.60</td>\n",
       "      <td>0.88</td>\n",
       "      <td>0.00</td>\n",
       "      <td>0.00</td>\n",
       "      <td>0.00</td>\n",
       "      <td>0.0</td>\n",
       "      <td>0.00</td>\n",
       "      <td>normal</td>\n",
       "      <td>15</td>\n",
       "      <td>0</td>\n",
       "    </tr>\n",
       "    <tr>\n",
       "      <th>1</th>\n",
       "      <td>0</td>\n",
       "      <td>tcp</td>\n",
       "      <td>private</td>\n",
       "      <td>S0</td>\n",
       "      <td>0</td>\n",
       "      <td>0</td>\n",
       "      <td>0</td>\n",
       "      <td>0</td>\n",
       "      <td>0</td>\n",
       "      <td>0</td>\n",
       "      <td>...</td>\n",
       "      <td>0.05</td>\n",
       "      <td>0.00</td>\n",
       "      <td>0.00</td>\n",
       "      <td>1.00</td>\n",
       "      <td>1.00</td>\n",
       "      <td>0.0</td>\n",
       "      <td>0.00</td>\n",
       "      <td>neptune</td>\n",
       "      <td>19</td>\n",
       "      <td>1</td>\n",
       "    </tr>\n",
       "    <tr>\n",
       "      <th>2</th>\n",
       "      <td>0</td>\n",
       "      <td>tcp</td>\n",
       "      <td>http</td>\n",
       "      <td>SF</td>\n",
       "      <td>232</td>\n",
       "      <td>8153</td>\n",
       "      <td>0</td>\n",
       "      <td>0</td>\n",
       "      <td>0</td>\n",
       "      <td>0</td>\n",
       "      <td>...</td>\n",
       "      <td>0.00</td>\n",
       "      <td>0.03</td>\n",
       "      <td>0.04</td>\n",
       "      <td>0.03</td>\n",
       "      <td>0.01</td>\n",
       "      <td>0.0</td>\n",
       "      <td>0.01</td>\n",
       "      <td>normal</td>\n",
       "      <td>21</td>\n",
       "      <td>0</td>\n",
       "    </tr>\n",
       "    <tr>\n",
       "      <th>3</th>\n",
       "      <td>0</td>\n",
       "      <td>tcp</td>\n",
       "      <td>http</td>\n",
       "      <td>SF</td>\n",
       "      <td>199</td>\n",
       "      <td>420</td>\n",
       "      <td>0</td>\n",
       "      <td>0</td>\n",
       "      <td>0</td>\n",
       "      <td>0</td>\n",
       "      <td>...</td>\n",
       "      <td>0.00</td>\n",
       "      <td>0.00</td>\n",
       "      <td>0.00</td>\n",
       "      <td>0.00</td>\n",
       "      <td>0.00</td>\n",
       "      <td>0.0</td>\n",
       "      <td>0.00</td>\n",
       "      <td>normal</td>\n",
       "      <td>21</td>\n",
       "      <td>0</td>\n",
       "    </tr>\n",
       "    <tr>\n",
       "      <th>4</th>\n",
       "      <td>0</td>\n",
       "      <td>tcp</td>\n",
       "      <td>private</td>\n",
       "      <td>REJ</td>\n",
       "      <td>0</td>\n",
       "      <td>0</td>\n",
       "      <td>0</td>\n",
       "      <td>0</td>\n",
       "      <td>0</td>\n",
       "      <td>0</td>\n",
       "      <td>...</td>\n",
       "      <td>0.07</td>\n",
       "      <td>0.00</td>\n",
       "      <td>0.00</td>\n",
       "      <td>0.00</td>\n",
       "      <td>0.00</td>\n",
       "      <td>1.0</td>\n",
       "      <td>1.00</td>\n",
       "      <td>neptune</td>\n",
       "      <td>21</td>\n",
       "      <td>1</td>\n",
       "    </tr>\n",
       "  </tbody>\n",
       "</table>\n",
       "<p>5 rows × 44 columns</p>\n",
       "</div>"
      ],
      "text/plain": [
       "   duration protocol_type  service flag  src_bytes  dst_bytes  land  \\\n",
       "0         0           udp    other   SF        146          0     0   \n",
       "1         0           tcp  private   S0          0          0     0   \n",
       "2         0           tcp     http   SF        232       8153     0   \n",
       "3         0           tcp     http   SF        199        420     0   \n",
       "4         0           tcp  private  REJ          0          0     0   \n",
       "\n",
       "   wrong_fragment  urgent  hot  ...  dst_host_diff_srv_rate  \\\n",
       "0               0       0    0  ...                    0.60   \n",
       "1               0       0    0  ...                    0.05   \n",
       "2               0       0    0  ...                    0.00   \n",
       "3               0       0    0  ...                    0.00   \n",
       "4               0       0    0  ...                    0.07   \n",
       "\n",
       "   dst_host_same_src_port_rate  dst_host_srv_diff_host_rate  \\\n",
       "0                         0.88                         0.00   \n",
       "1                         0.00                         0.00   \n",
       "2                         0.03                         0.04   \n",
       "3                         0.00                         0.00   \n",
       "4                         0.00                         0.00   \n",
       "\n",
       "   dst_host_serror_rate  dst_host_srv_serror_rate  dst_host_rerror_rate  \\\n",
       "0                  0.00                      0.00                   0.0   \n",
       "1                  1.00                      1.00                   0.0   \n",
       "2                  0.03                      0.01                   0.0   \n",
       "3                  0.00                      0.00                   0.0   \n",
       "4                  0.00                      0.00                   1.0   \n",
       "\n",
       "   dst_host_srv_rerror_rate   attack  level  attack_flag  \n",
       "0                      0.00   normal     15            0  \n",
       "1                      0.00  neptune     19            1  \n",
       "2                      0.01   normal     21            0  \n",
       "3                      0.00   normal     21            0  \n",
       "4                      1.00  neptune     21            1  \n",
       "\n",
       "[5 rows x 44 columns]"
      ]
     },
     "execution_count": 5,
     "metadata": {},
     "output_type": "execute_result"
    }
   ],
   "source": [
    "# map normal to 0, all attacks to 1\n",
    "is_attack = df.attack.map(lambda a: 0 if a == 'normal' else 1)\n",
    "test_attack = test_df.attack.map(lambda a: 0 if a == 'normal' else 1)\n",
    "\n",
    "#data_with_attack = df.join(is_attack, rsuffix='_flag')\n",
    "df['attack_flag'] = is_attack\n",
    "test_df['attack_flag'] = test_attack\n",
    "\n",
    "# view the result\n",
    "df.head()"
   ]
  },
  {
   "cell_type": "markdown",
   "metadata": {
    "papermill": {
     "duration": 0.023392,
     "end_time": "2021-03-04T13:49:47.303003",
     "exception": false,
     "start_time": "2021-03-04T13:49:47.279611",
     "status": "completed"
    },
    "tags": []
   },
   "source": [
    "References from Research Papers-\n",
    "http://45.113.122.54/pdfs/ijrscse/v2-i3/7.pdf - Attack cassifications for ML algos\n",
    "https://lupinepublishers.com/computer-science-journal/fulltext/detecting-distributed-denial-of-service-ddos-attacks.ID.000110.php"
   ]
  },
  {
   "cell_type": "code",
   "execution_count": 6,
   "metadata": {
    "execution": {
     "iopub.execute_input": "2021-03-04T13:49:47.358323Z",
     "iopub.status.busy": "2021-03-04T13:49:47.357306Z",
     "iopub.status.idle": "2021-03-04T13:49:47.359771Z",
     "shell.execute_reply": "2021-03-04T13:49:47.360221Z"
    },
    "papermill": {
     "duration": 0.03361,
     "end_time": "2021-03-04T13:49:47.360406",
     "exception": false,
     "start_time": "2021-03-04T13:49:47.326796",
     "status": "completed"
    },
    "tags": []
   },
   "outputs": [],
   "source": [
    "# lists to hold our attack classifications\n",
    "dos_attacks = ['apache2','back','land','neptune','mailbomb','pod','processtable','smurf','teardrop','udpstorm','worm']\n",
    "probe_attacks = ['ipsweep','mscan','nmap','portsweep','saint','satan']\n",
    "privilege_attacks = ['buffer_overflow','loadmdoule','perl','ps','rootkit','sqlattack','xterm']\n",
    "access_attacks = ['ftp_write','guess_passwd','http_tunnel','imap','multihop','named','phf','sendmail','snmpgetattack','snmpguess','spy','warezclient','warezmaster','xclock','xsnoop']\n",
    "\n",
    "# we will use these for plotting below\n",
    "attack_labels = ['Normal','DoS','Probe','Privilege','Access']"
   ]
  },
  {
   "cell_type": "code",
   "execution_count": 7,
   "metadata": {
    "execution": {
     "iopub.execute_input": "2021-03-04T13:49:47.411515Z",
     "iopub.status.busy": "2021-03-04T13:49:47.410556Z",
     "iopub.status.idle": "2021-03-04T13:49:47.417271Z",
     "shell.execute_reply": "2021-03-04T13:49:47.416734Z"
    },
    "papermill": {
     "duration": 0.033031,
     "end_time": "2021-03-04T13:49:47.417410",
     "exception": false,
     "start_time": "2021-03-04T13:49:47.384379",
     "status": "completed"
    },
    "tags": []
   },
   "outputs": [],
   "source": [
    "# helper function to pass to data frame mapping\n",
    "def map_attack(attack):\n",
    "    if attack in dos_attacks:\n",
    "        # dos_attacks map to 1\n",
    "        attack_type = 1\n",
    "    elif attack in probe_attacks:\n",
    "        # probe_attacks mapt to 2\n",
    "        attack_type = 2\n",
    "    elif attack in privilege_attacks:\n",
    "        # privilege escalation attacks map to 3\n",
    "        attack_type = 3\n",
    "    elif attack in access_attacks:\n",
    "        # remote access attacks map to 4\n",
    "        attack_type = 4\n",
    "    else:\n",
    "        # normal maps to 0\n",
    "        attack_type = 0\n",
    "        \n",
    "    return attack_type"
   ]
  },
  {
   "cell_type": "code",
   "execution_count": 8,
   "metadata": {
    "execution": {
     "iopub.execute_input": "2021-03-04T13:49:47.471516Z",
     "iopub.status.busy": "2021-03-04T13:49:47.470578Z",
     "iopub.status.idle": "2021-03-04T13:49:47.617510Z",
     "shell.execute_reply": "2021-03-04T13:49:47.616940Z"
    },
    "papermill": {
     "duration": 0.176172,
     "end_time": "2021-03-04T13:49:47.617645",
     "exception": false,
     "start_time": "2021-03-04T13:49:47.441473",
     "status": "completed"
    },
    "tags": []
   },
   "outputs": [],
   "source": [
    "# map the data and join to the data set\n",
    "attack_map = df.attack.apply(map_attack)\n",
    "df['attack_map'] = attack_map\n",
    "\n",
    "test_attack_map = test_df.attack.apply(map_attack)\n",
    "test_df['attack_map'] = test_attack_map"
   ]
  },
  {
   "cell_type": "code",
   "execution_count": 9,
   "metadata": {
    "execution": {
     "iopub.execute_input": "2021-03-04T13:49:47.691114Z",
     "iopub.status.busy": "2021-03-04T13:49:47.690143Z",
     "iopub.status.idle": "2021-03-04T13:49:47.695828Z",
     "shell.execute_reply": "2021-03-04T13:49:47.695019Z"
    },
    "papermill": {
     "duration": 0.054311,
     "end_time": "2021-03-04T13:49:47.695977",
     "exception": false,
     "start_time": "2021-03-04T13:49:47.641666",
     "status": "completed"
    },
    "tags": []
   },
   "outputs": [
    {
     "data": {
      "text/html": [
       "<div>\n",
       "<style scoped>\n",
       "    .dataframe tbody tr th:only-of-type {\n",
       "        vertical-align: middle;\n",
       "    }\n",
       "\n",
       "    .dataframe tbody tr th {\n",
       "        vertical-align: top;\n",
       "    }\n",
       "\n",
       "    .dataframe thead th {\n",
       "        text-align: right;\n",
       "    }\n",
       "</style>\n",
       "<table border=\"1\" class=\"dataframe\">\n",
       "  <thead>\n",
       "    <tr style=\"text-align: right;\">\n",
       "      <th></th>\n",
       "      <th>duration</th>\n",
       "      <th>protocol_type</th>\n",
       "      <th>service</th>\n",
       "      <th>flag</th>\n",
       "      <th>src_bytes</th>\n",
       "      <th>dst_bytes</th>\n",
       "      <th>land</th>\n",
       "      <th>wrong_fragment</th>\n",
       "      <th>urgent</th>\n",
       "      <th>hot</th>\n",
       "      <th>...</th>\n",
       "      <th>dst_host_same_src_port_rate</th>\n",
       "      <th>dst_host_srv_diff_host_rate</th>\n",
       "      <th>dst_host_serror_rate</th>\n",
       "      <th>dst_host_srv_serror_rate</th>\n",
       "      <th>dst_host_rerror_rate</th>\n",
       "      <th>dst_host_srv_rerror_rate</th>\n",
       "      <th>attack</th>\n",
       "      <th>level</th>\n",
       "      <th>attack_flag</th>\n",
       "      <th>attack_map</th>\n",
       "    </tr>\n",
       "  </thead>\n",
       "  <tbody>\n",
       "    <tr>\n",
       "      <th>0</th>\n",
       "      <td>0</td>\n",
       "      <td>udp</td>\n",
       "      <td>other</td>\n",
       "      <td>SF</td>\n",
       "      <td>146</td>\n",
       "      <td>0</td>\n",
       "      <td>0</td>\n",
       "      <td>0</td>\n",
       "      <td>0</td>\n",
       "      <td>0</td>\n",
       "      <td>...</td>\n",
       "      <td>0.88</td>\n",
       "      <td>0.00</td>\n",
       "      <td>0.00</td>\n",
       "      <td>0.00</td>\n",
       "      <td>0.0</td>\n",
       "      <td>0.00</td>\n",
       "      <td>normal</td>\n",
       "      <td>15</td>\n",
       "      <td>0</td>\n",
       "      <td>0</td>\n",
       "    </tr>\n",
       "    <tr>\n",
       "      <th>1</th>\n",
       "      <td>0</td>\n",
       "      <td>tcp</td>\n",
       "      <td>private</td>\n",
       "      <td>S0</td>\n",
       "      <td>0</td>\n",
       "      <td>0</td>\n",
       "      <td>0</td>\n",
       "      <td>0</td>\n",
       "      <td>0</td>\n",
       "      <td>0</td>\n",
       "      <td>...</td>\n",
       "      <td>0.00</td>\n",
       "      <td>0.00</td>\n",
       "      <td>1.00</td>\n",
       "      <td>1.00</td>\n",
       "      <td>0.0</td>\n",
       "      <td>0.00</td>\n",
       "      <td>neptune</td>\n",
       "      <td>19</td>\n",
       "      <td>1</td>\n",
       "      <td>1</td>\n",
       "    </tr>\n",
       "    <tr>\n",
       "      <th>2</th>\n",
       "      <td>0</td>\n",
       "      <td>tcp</td>\n",
       "      <td>http</td>\n",
       "      <td>SF</td>\n",
       "      <td>232</td>\n",
       "      <td>8153</td>\n",
       "      <td>0</td>\n",
       "      <td>0</td>\n",
       "      <td>0</td>\n",
       "      <td>0</td>\n",
       "      <td>...</td>\n",
       "      <td>0.03</td>\n",
       "      <td>0.04</td>\n",
       "      <td>0.03</td>\n",
       "      <td>0.01</td>\n",
       "      <td>0.0</td>\n",
       "      <td>0.01</td>\n",
       "      <td>normal</td>\n",
       "      <td>21</td>\n",
       "      <td>0</td>\n",
       "      <td>0</td>\n",
       "    </tr>\n",
       "    <tr>\n",
       "      <th>3</th>\n",
       "      <td>0</td>\n",
       "      <td>tcp</td>\n",
       "      <td>http</td>\n",
       "      <td>SF</td>\n",
       "      <td>199</td>\n",
       "      <td>420</td>\n",
       "      <td>0</td>\n",
       "      <td>0</td>\n",
       "      <td>0</td>\n",
       "      <td>0</td>\n",
       "      <td>...</td>\n",
       "      <td>0.00</td>\n",
       "      <td>0.00</td>\n",
       "      <td>0.00</td>\n",
       "      <td>0.00</td>\n",
       "      <td>0.0</td>\n",
       "      <td>0.00</td>\n",
       "      <td>normal</td>\n",
       "      <td>21</td>\n",
       "      <td>0</td>\n",
       "      <td>0</td>\n",
       "    </tr>\n",
       "    <tr>\n",
       "      <th>4</th>\n",
       "      <td>0</td>\n",
       "      <td>tcp</td>\n",
       "      <td>private</td>\n",
       "      <td>REJ</td>\n",
       "      <td>0</td>\n",
       "      <td>0</td>\n",
       "      <td>0</td>\n",
       "      <td>0</td>\n",
       "      <td>0</td>\n",
       "      <td>0</td>\n",
       "      <td>...</td>\n",
       "      <td>0.00</td>\n",
       "      <td>0.00</td>\n",
       "      <td>0.00</td>\n",
       "      <td>0.00</td>\n",
       "      <td>1.0</td>\n",
       "      <td>1.00</td>\n",
       "      <td>neptune</td>\n",
       "      <td>21</td>\n",
       "      <td>1</td>\n",
       "      <td>1</td>\n",
       "    </tr>\n",
       "  </tbody>\n",
       "</table>\n",
       "<p>5 rows × 45 columns</p>\n",
       "</div>"
      ],
      "text/plain": [
       "   duration protocol_type  service flag  src_bytes  dst_bytes  land  \\\n",
       "0         0           udp    other   SF        146          0     0   \n",
       "1         0           tcp  private   S0          0          0     0   \n",
       "2         0           tcp     http   SF        232       8153     0   \n",
       "3         0           tcp     http   SF        199        420     0   \n",
       "4         0           tcp  private  REJ          0          0     0   \n",
       "\n",
       "   wrong_fragment  urgent  hot  ...  dst_host_same_src_port_rate  \\\n",
       "0               0       0    0  ...                         0.88   \n",
       "1               0       0    0  ...                         0.00   \n",
       "2               0       0    0  ...                         0.03   \n",
       "3               0       0    0  ...                         0.00   \n",
       "4               0       0    0  ...                         0.00   \n",
       "\n",
       "   dst_host_srv_diff_host_rate  dst_host_serror_rate  \\\n",
       "0                         0.00                  0.00   \n",
       "1                         0.00                  1.00   \n",
       "2                         0.04                  0.03   \n",
       "3                         0.00                  0.00   \n",
       "4                         0.00                  0.00   \n",
       "\n",
       "   dst_host_srv_serror_rate  dst_host_rerror_rate  dst_host_srv_rerror_rate  \\\n",
       "0                      0.00                   0.0                      0.00   \n",
       "1                      1.00                   0.0                      0.00   \n",
       "2                      0.01                   0.0                      0.01   \n",
       "3                      0.00                   0.0                      0.00   \n",
       "4                      0.00                   1.0                      1.00   \n",
       "\n",
       "    attack  level  attack_flag  attack_map  \n",
       "0   normal     15            0           0  \n",
       "1  neptune     19            1           1  \n",
       "2   normal     21            0           0  \n",
       "3   normal     21            0           0  \n",
       "4  neptune     21            1           1  \n",
       "\n",
       "[5 rows x 45 columns]"
      ]
     },
     "execution_count": 9,
     "metadata": {},
     "output_type": "execute_result"
    }
   ],
   "source": [
    "# view the result\n",
    "df.head()"
   ]
  },
  {
   "cell_type": "markdown",
   "metadata": {
    "papermill": {
     "duration": 0.025839,
     "end_time": "2021-03-04T13:49:47.746430",
     "exception": false,
     "start_time": "2021-03-04T13:49:47.720591",
     "status": "completed"
    },
    "tags": []
   },
   "source": [
    "Data profiling\n",
    "First is a simple table of attack by protocol. In network traffic analysis protocol is a simple tool to create some initial buckets to categorize our data. 'normal' is left in the set at this point as a benchmark."
   ]
  },
  {
   "cell_type": "markdown",
   "metadata": {
    "papermill": {
     "duration": 0.024862,
     "end_time": "2021-03-04T13:49:47.796393",
     "exception": false,
     "start_time": "2021-03-04T13:49:47.771531",
     "status": "completed"
    },
    "tags": []
   },
   "source": [
    "pd.crosstab - Compute a simple cross tabulation of two (or more) factors"
   ]
  },
  {
   "cell_type": "code",
   "execution_count": 10,
   "metadata": {
    "execution": {
     "iopub.execute_input": "2021-03-04T13:49:47.852783Z",
     "iopub.status.busy": "2021-03-04T13:49:47.851657Z",
     "iopub.status.idle": "2021-03-04T13:49:47.926481Z",
     "shell.execute_reply": "2021-03-04T13:49:47.926934Z"
    },
    "papermill": {
     "duration": 0.105776,
     "end_time": "2021-03-04T13:49:47.927109",
     "exception": false,
     "start_time": "2021-03-04T13:49:47.821333",
     "status": "completed"
    },
    "tags": []
   },
   "outputs": [
    {
     "data": {
      "text/html": [
       "<div>\n",
       "<style scoped>\n",
       "    .dataframe tbody tr th:only-of-type {\n",
       "        vertical-align: middle;\n",
       "    }\n",
       "\n",
       "    .dataframe tbody tr th {\n",
       "        vertical-align: top;\n",
       "    }\n",
       "\n",
       "    .dataframe thead th {\n",
       "        text-align: right;\n",
       "    }\n",
       "</style>\n",
       "<table border=\"1\" class=\"dataframe\">\n",
       "  <thead>\n",
       "    <tr style=\"text-align: right;\">\n",
       "      <th>protocol_type</th>\n",
       "      <th>icmp</th>\n",
       "      <th>tcp</th>\n",
       "      <th>udp</th>\n",
       "    </tr>\n",
       "    <tr>\n",
       "      <th>attack</th>\n",
       "      <th></th>\n",
       "      <th></th>\n",
       "      <th></th>\n",
       "    </tr>\n",
       "  </thead>\n",
       "  <tbody>\n",
       "    <tr>\n",
       "      <th>back</th>\n",
       "      <td>0</td>\n",
       "      <td>956</td>\n",
       "      <td>0</td>\n",
       "    </tr>\n",
       "    <tr>\n",
       "      <th>buffer_overflow</th>\n",
       "      <td>0</td>\n",
       "      <td>30</td>\n",
       "      <td>0</td>\n",
       "    </tr>\n",
       "    <tr>\n",
       "      <th>ftp_write</th>\n",
       "      <td>0</td>\n",
       "      <td>8</td>\n",
       "      <td>0</td>\n",
       "    </tr>\n",
       "    <tr>\n",
       "      <th>guess_passwd</th>\n",
       "      <td>0</td>\n",
       "      <td>53</td>\n",
       "      <td>0</td>\n",
       "    </tr>\n",
       "    <tr>\n",
       "      <th>imap</th>\n",
       "      <td>0</td>\n",
       "      <td>11</td>\n",
       "      <td>0</td>\n",
       "    </tr>\n",
       "    <tr>\n",
       "      <th>ipsweep</th>\n",
       "      <td>3117</td>\n",
       "      <td>482</td>\n",
       "      <td>0</td>\n",
       "    </tr>\n",
       "    <tr>\n",
       "      <th>land</th>\n",
       "      <td>0</td>\n",
       "      <td>18</td>\n",
       "      <td>0</td>\n",
       "    </tr>\n",
       "    <tr>\n",
       "      <th>loadmodule</th>\n",
       "      <td>0</td>\n",
       "      <td>9</td>\n",
       "      <td>0</td>\n",
       "    </tr>\n",
       "    <tr>\n",
       "      <th>multihop</th>\n",
       "      <td>0</td>\n",
       "      <td>7</td>\n",
       "      <td>0</td>\n",
       "    </tr>\n",
       "    <tr>\n",
       "      <th>neptune</th>\n",
       "      <td>0</td>\n",
       "      <td>41214</td>\n",
       "      <td>0</td>\n",
       "    </tr>\n",
       "    <tr>\n",
       "      <th>nmap</th>\n",
       "      <td>981</td>\n",
       "      <td>265</td>\n",
       "      <td>247</td>\n",
       "    </tr>\n",
       "    <tr>\n",
       "      <th>normal</th>\n",
       "      <td>1309</td>\n",
       "      <td>53599</td>\n",
       "      <td>12434</td>\n",
       "    </tr>\n",
       "    <tr>\n",
       "      <th>perl</th>\n",
       "      <td>0</td>\n",
       "      <td>3</td>\n",
       "      <td>0</td>\n",
       "    </tr>\n",
       "    <tr>\n",
       "      <th>phf</th>\n",
       "      <td>0</td>\n",
       "      <td>4</td>\n",
       "      <td>0</td>\n",
       "    </tr>\n",
       "    <tr>\n",
       "      <th>pod</th>\n",
       "      <td>201</td>\n",
       "      <td>0</td>\n",
       "      <td>0</td>\n",
       "    </tr>\n",
       "    <tr>\n",
       "      <th>portsweep</th>\n",
       "      <td>5</td>\n",
       "      <td>2926</td>\n",
       "      <td>0</td>\n",
       "    </tr>\n",
       "    <tr>\n",
       "      <th>rootkit</th>\n",
       "      <td>0</td>\n",
       "      <td>7</td>\n",
       "      <td>3</td>\n",
       "    </tr>\n",
       "    <tr>\n",
       "      <th>satan</th>\n",
       "      <td>32</td>\n",
       "      <td>2184</td>\n",
       "      <td>1417</td>\n",
       "    </tr>\n",
       "    <tr>\n",
       "      <th>smurf</th>\n",
       "      <td>2646</td>\n",
       "      <td>0</td>\n",
       "      <td>0</td>\n",
       "    </tr>\n",
       "    <tr>\n",
       "      <th>spy</th>\n",
       "      <td>0</td>\n",
       "      <td>2</td>\n",
       "      <td>0</td>\n",
       "    </tr>\n",
       "    <tr>\n",
       "      <th>teardrop</th>\n",
       "      <td>0</td>\n",
       "      <td>0</td>\n",
       "      <td>892</td>\n",
       "    </tr>\n",
       "    <tr>\n",
       "      <th>warezclient</th>\n",
       "      <td>0</td>\n",
       "      <td>890</td>\n",
       "      <td>0</td>\n",
       "    </tr>\n",
       "    <tr>\n",
       "      <th>warezmaster</th>\n",
       "      <td>0</td>\n",
       "      <td>20</td>\n",
       "      <td>0</td>\n",
       "    </tr>\n",
       "  </tbody>\n",
       "</table>\n",
       "</div>"
      ],
      "text/plain": [
       "protocol_type    icmp    tcp    udp\n",
       "attack                             \n",
       "back                0    956      0\n",
       "buffer_overflow     0     30      0\n",
       "ftp_write           0      8      0\n",
       "guess_passwd        0     53      0\n",
       "imap                0     11      0\n",
       "ipsweep          3117    482      0\n",
       "land                0     18      0\n",
       "loadmodule          0      9      0\n",
       "multihop            0      7      0\n",
       "neptune             0  41214      0\n",
       "nmap              981    265    247\n",
       "normal           1309  53599  12434\n",
       "perl                0      3      0\n",
       "phf                 0      4      0\n",
       "pod               201      0      0\n",
       "portsweep           5   2926      0\n",
       "rootkit             0      7      3\n",
       "satan              32   2184   1417\n",
       "smurf            2646      0      0\n",
       "spy                 0      2      0\n",
       "teardrop            0      0    892\n",
       "warezclient         0    890      0\n",
       "warezmaster         0     20      0"
      ]
     },
     "execution_count": 10,
     "metadata": {},
     "output_type": "execute_result"
    }
   ],
   "source": [
    "# use a crosstab to get attack vs protocol\n",
    "attack_vs_protocol = pd.crosstab(df.attack, df.protocol_type)\n",
    "attack_vs_protocol"
   ]
  },
  {
   "cell_type": "code",
   "execution_count": 11,
   "metadata": {
    "execution": {
     "iopub.execute_input": "2021-03-04T13:49:47.983515Z",
     "iopub.status.busy": "2021-03-04T13:49:47.982506Z",
     "iopub.status.idle": "2021-03-04T13:49:47.991452Z",
     "shell.execute_reply": "2021-03-04T13:49:47.991952Z"
    },
    "papermill": {
     "duration": 0.038661,
     "end_time": "2021-03-04T13:49:47.992147",
     "exception": false,
     "start_time": "2021-03-04T13:49:47.953486",
     "status": "completed"
    },
    "tags": []
   },
   "outputs": [],
   "source": [
    "# helper function for drawing mulitple charts.\n",
    "def bake_pies(data_list,labels):\n",
    "    list_length = len(data_list)\n",
    "    \n",
    "    # setup for mapping colors\n",
    "    color_list = sns.color_palette()\n",
    "    color_cycle = itertools.cycle(color_list)\n",
    "    cdict = {}\n",
    "    \n",
    "    # build the subplots\n",
    "    fig, axs = plt.subplots(1, list_length,figsize=(18,10), tight_layout=False)\n",
    "    plt.subplots_adjust(wspace=1/list_length)\n",
    "    \n",
    "    # loop through the data sets and build the charts\n",
    "    for count, data_set in enumerate(data_list): \n",
    "        \n",
    "        # update our color mapt with new values\n",
    "        for num, value in enumerate(np.unique(data_set.index)):\n",
    "            if value not in cdict:\n",
    "                cdict[value] = next(color_cycle)\n",
    "       \n",
    "        # build the wedges\n",
    "        wedges,texts = axs[count].pie(data_set,\n",
    "                           colors=[cdict[v] for v in data_set.index])\n",
    "        # build the legend\n",
    "        axs[count].legend(wedges, data_set.index,\n",
    "                           title=\"Flags\",\n",
    "                           loc=\"center left\",\n",
    "                           bbox_to_anchor=(1, 0, 0.5, 1))\n",
    "        # set the title\n",
    "        axs[count].set_title(labels[count])\n",
    "        \n",
    "    return axs   "
   ]
  },
  {
   "cell_type": "code",
   "execution_count": 12,
   "metadata": {
    "execution": {
     "iopub.execute_input": "2021-03-04T13:49:48.048372Z",
     "iopub.status.busy": "2021-03-04T13:49:48.047358Z",
     "iopub.status.idle": "2021-03-04T13:49:48.053332Z",
     "shell.execute_reply": "2021-03-04T13:49:48.053832Z"
    },
    "papermill": {
     "duration": 0.03593,
     "end_time": "2021-03-04T13:49:48.053997",
     "exception": false,
     "start_time": "2021-03-04T13:49:48.018067",
     "status": "completed"
    },
    "tags": []
   },
   "outputs": [
    {
     "data": {
      "text/plain": [
       "'from mpl_toolkits.mplot3d import Axes3D\\n\\n# set grid style\\nsns.set_style(\"whitegrid\", {\\'axes.grid\\' : False})\\n\\n# axes instance\\nfig = plt.figure(figsize=(6,6))\\nax = Axes3D(fig)\\n\\n# set data\\ndf = pd.read_csv(\"/kaggle/input/nslkdd/KDDTrain+.txt\")\\ndf.columns = columns\\ndf = df.dropna()\\nprint(df.shape)\\ndf.head(15)\\nis_attack = df.attack.map(lambda a: 0 if a == \\'normal\\' else 1)\\ndf[\\'attack_flag\\'] = is_attack\\nprint(\"attack_flag\", df.attack_flag)\\nXY = df.drop(df.columns[[2]], axis=1)\\nx = df.x\\ny = df.y\\nz = df.attack_flag\\n\\n# plot\\nax.scatter(x, y, z, c=x, marker=\\'o\\')\\nax.set_xlabel(\\'X Label\\')\\nax.set_ylabel(\\'Y Label\\')\\nax.set_zlabel(\\'Z Label\\')\\n\\nplt.show()'"
      ]
     },
     "execution_count": 12,
     "metadata": {},
     "output_type": "execute_result"
    }
   ],
   "source": [
    "'''from mpl_toolkits.mplot3d import Axes3D\n",
    "\n",
    "# set grid style\n",
    "sns.set_style(\"whitegrid\", {'axes.grid' : False})\n",
    "\n",
    "# axes instance\n",
    "fig = plt.figure(figsize=(6,6))\n",
    "ax = Axes3D(fig)\n",
    "\n",
    "# set data\n",
    "df = pd.read_csv(\"/kaggle/input/nslkdd/KDDTrain+.txt\")\n",
    "df.columns = columns\n",
    "df = df.dropna()\n",
    "print(df.shape)\n",
    "df.head(15)\n",
    "is_attack = df.attack.map(lambda a: 0 if a == 'normal' else 1)\n",
    "df['attack_flag'] = is_attack\n",
    "print(\"attack_flag\", df.attack_flag)\n",
    "XY = df.drop(df.columns[[2]], axis=1)\n",
    "x = df.x\n",
    "y = df.y\n",
    "z = df.attack_flag\n",
    "\n",
    "# plot\n",
    "ax.scatter(x, y, z, c=x, marker='o')\n",
    "ax.set_xlabel('X Label')\n",
    "ax.set_ylabel('Y Label')\n",
    "ax.set_zlabel('Z Label')\n",
    "\n",
    "plt.show()'''"
   ]
  },
  {
   "cell_type": "code",
   "execution_count": 13,
   "metadata": {
    "execution": {
     "iopub.execute_input": "2021-03-04T13:49:48.131349Z",
     "iopub.status.busy": "2021-03-04T13:49:48.129459Z",
     "iopub.status.idle": "2021-03-04T13:49:49.093087Z",
     "shell.execute_reply": "2021-03-04T13:49:49.093576Z"
    },
    "papermill": {
     "duration": 1.013011,
     "end_time": "2021-03-04T13:49:49.093756",
     "exception": false,
     "start_time": "2021-03-04T13:49:48.080745",
     "status": "completed"
    },
    "tags": []
   },
   "outputs": [
    {
     "data": {
      "image/png": "[encoded data removed]",
      "text/plain": [
       "<Figure size 1296x720 with 3 Axes>"
      ]
     },
     "metadata": {},
     "output_type": "display_data"
    }
   ],
   "source": [
    "# get the series for each protocol\n",
    "icmp_attacks = attack_vs_protocol.icmp\n",
    "tcp_attacks = attack_vs_protocol.tcp\n",
    "udp_attacks = attack_vs_protocol.udp\n",
    "\n",
    "# create the charts\n",
    "bake_pies([icmp_attacks, tcp_attacks, udp_attacks],['icmp','tcp','udp'])\n",
    "plt.show()"
   ]
  },
  {
   "cell_type": "markdown",
   "metadata": {
    "papermill": {
     "duration": 0.028007,
     "end_time": "2021-03-04T13:49:49.150940",
     "exception": false,
     "start_time": "2021-03-04T13:49:49.122933",
     "status": "completed"
    },
    "tags": []
   },
   "source": [
    "The thing to notice here is the difference in each protocol type. Our initial impression is that protocol may be useful in being able to identify the type of traffic we are observing. Let's see if flag behaves the same way."
   ]
  },
  {
   "cell_type": "code",
   "execution_count": 14,
   "metadata": {
    "execution": {
     "iopub.execute_input": "2021-03-04T13:49:49.209742Z",
     "iopub.status.busy": "2021-03-04T13:49:49.209158Z",
     "iopub.status.idle": "2021-03-04T13:49:49.682366Z",
     "shell.execute_reply": "2021-03-04T13:49:49.682952Z"
    },
    "papermill": {
     "duration": 0.504386,
     "end_time": "2021-03-04T13:49:49.683151",
     "exception": false,
     "start_time": "2021-03-04T13:49:49.178765",
     "status": "completed"
    },
    "tags": []
   },
   "outputs": [
    {
     "data": {
      "image/png": "[encoded data removed]",
      "text/plain": [
       "<Figure size 1296x720 with 2 Axes>"
      ]
     },
     "metadata": {},
     "output_type": "display_data"
    }
   ],
   "source": [
    "# get a series with the count of each flag for attack and normal traffic\n",
    "normal_flags = df.loc[df.attack_flag == 0].flag.value_counts()\n",
    "attack_flags = df.loc[df.attack_flag == 1].flag.value_counts()\n",
    "\n",
    "# create the charts\n",
    "flag_axs = bake_pies([normal_flags, attack_flags], ['normal','attack'])        \n",
    "plt.show()"
   ]
  },
  {
   "cell_type": "code",
   "execution_count": 15,
   "metadata": {
    "execution": {
     "iopub.execute_input": "2021-03-04T13:49:49.747895Z",
     "iopub.status.busy": "2021-03-04T13:49:49.747297Z",
     "iopub.status.idle": "2021-03-04T13:49:51.646306Z",
     "shell.execute_reply": "2021-03-04T13:49:51.646789Z"
    },
    "papermill": {
     "duration": 1.933463,
     "end_time": "2021-03-04T13:49:51.646967",
     "exception": false,
     "start_time": "2021-03-04T13:49:49.713504",
     "status": "completed"
    },
    "tags": []
   },
   "outputs": [
    {
     "data": {
      "image/png": "[encoded data removed]",
      "text/plain": [
       "<Figure size 1296x720 with 2 Axes>"
      ]
     },
     "metadata": {},
     "output_type": "display_data"
    }
   ],
   "source": [
    "# get a series with the count of each service for attack and normal traffic\n",
    "normal_services = df.loc[df.attack_flag == 0].service.value_counts()\n",
    "attack_services = df.loc[df.attack_flag == 1].service.value_counts()\n",
    "\n",
    "# create the charts\n",
    "service_axs = bake_pies([normal_services, attack_services], ['normal','attack'])        \n",
    "plt.show()"
   ]
  },
  {
   "cell_type": "code",
   "execution_count": 16,
   "metadata": {
    "execution": {
     "iopub.execute_input": "2021-03-04T13:49:51.721985Z",
     "iopub.status.busy": "2021-03-04T13:49:51.721247Z",
     "iopub.status.idle": "2021-03-04T13:49:52.617920Z",
     "shell.execute_reply": "2021-03-04T13:49:52.618593Z"
    },
    "papermill": {
     "duration": 0.936811,
     "end_time": "2021-03-04T13:49:52.618785",
     "exception": false,
     "start_time": "2021-03-04T13:49:51.681974",
     "status": "completed"
    },
    "tags": []
   },
   "outputs": [
    {
     "name": "stderr",
     "output_type": "stream",
     "text": [
      "/opt/conda/lib/python3.7/site-packages/seaborn/distributions.py:2557: FutureWarning: `distplot` is a deprecated function and will be removed in a future version. Please adapt your code to use either `displot` (a figure-level function with similar flexibility) or `histplot` (an axes-level function for histograms).\n",
      "  warnings.warn(msg, FutureWarning)\n"
     ]
    },
    {
     "data": {
      "text/plain": [
       "<AxesSubplot:xlabel='level', ylabel='Density'>"
      ]
     },
     "execution_count": 16,
     "metadata": {},
     "output_type": "execute_result"
    },
    {
     "data": {
      "image/png": "[encoded data removed]",
      "text/plain": [
       "<Figure size 432x288 with 1 Axes>"
      ]
     },
     "metadata": {
      "needs_background": "light"
     },
     "output_type": "display_data"
    }
   ],
   "source": [
    "sns.distplot(df['level'])"
   ]
  },
  {
   "cell_type": "code",
   "execution_count": 17,
   "metadata": {
    "execution": {
     "iopub.execute_input": "2021-03-04T13:49:52.713296Z",
     "iopub.status.busy": "2021-03-04T13:49:52.699516Z",
     "iopub.status.idle": "2021-03-04T13:49:53.642533Z",
     "shell.execute_reply": "2021-03-04T13:49:53.641539Z"
    },
    "papermill": {
     "duration": 0.986302,
     "end_time": "2021-03-04T13:49:53.642740",
     "exception": false,
     "start_time": "2021-03-04T13:49:52.656438",
     "status": "completed"
    },
    "tags": []
   },
   "outputs": [
    {
     "data": {
      "text/plain": [
       "<seaborn.axisgrid.JointGrid at 0x7ff0c2115950>"
      ]
     },
     "execution_count": 17,
     "metadata": {},
     "output_type": "execute_result"
    },
    {
     "data": {
      "image/png": "[encoded data removed]",
      "text/plain": [
       "<Figure size 432x432 with 3 Axes>"
      ]
     },
     "metadata": {
      "needs_background": "light"
     },
     "output_type": "display_data"
    }
   ],
   "source": [
    "sns.jointplot(x='duration', y='level', data=df, kind='scatter')"
   ]
  },
  {
   "cell_type": "markdown",
   "metadata": {
    "papermill": {
     "duration": 0.038071,
     "end_time": "2021-03-04T13:49:53.719283",
     "exception": false,
     "start_time": "2021-03-04T13:49:53.681212",
     "status": "completed"
    },
    "tags": []
   },
   "source": [
    "Wow! Look at how many services are in the attack set! Whereas a huge amount of normal traffic is http, our attack traffic is all over the place."
   ]
  },
  {
   "cell_type": "markdown",
   "metadata": {
    "papermill": {
     "duration": 0.037708,
     "end_time": "2021-03-04T13:49:53.795105",
     "exception": false,
     "start_time": "2021-03-04T13:49:53.757397",
     "status": "completed"
    },
    "tags": []
   },
   "source": [
    "Feature engineering - Label encoding. pd.get_dummies is a method that allows us to do a quick one hot encoding on our columns. This takes every value it finds in a single column and makes an individual column for each value, with a 0 or 1 indicating whether that column is 'hot'.\n",
    "We're also going to throw in some basic numeric data: duration, src_bytes, dst_bytes."
   ]
  },
  {
   "cell_type": "code",
   "execution_count": 18,
   "metadata": {
    "execution": {
     "iopub.execute_input": "2021-03-04T13:49:53.875932Z",
     "iopub.status.busy": "2021-03-04T13:49:53.875219Z",
     "iopub.status.idle": "2021-03-04T13:49:54.001217Z",
     "shell.execute_reply": "2021-03-04T13:49:54.001797Z"
    },
    "papermill": {
     "duration": 0.168218,
     "end_time": "2021-03-04T13:49:54.001986",
     "exception": false,
     "start_time": "2021-03-04T13:49:53.833768",
     "status": "completed"
    },
    "tags": []
   },
   "outputs": [],
   "source": [
    "# get the intial set of encoded features and encode them\n",
    "features_to_encode = ['protocol_type', 'service', 'flag']\n",
    "encoded = pd.get_dummies(df[features_to_encode])\n",
    "test_encoded_base = pd.get_dummies(test_df[features_to_encode])\n",
    "\n",
    "# not all of the features are in the test set, so we need to account for diffs\n",
    "test_index = np.arange(len(test_df.index))\n",
    "column_diffs = list(set(encoded.columns.values)-set(test_encoded_base.columns.values))\n",
    "\n",
    "diff_df = pd.DataFrame(0, index=test_index, columns=column_diffs)\n",
    "\n",
    "# we'll also need to reorder the columns to match, so let's get those\n",
    "column_order = encoded.columns.to_list()\n",
    "\n",
    "# append the new columns\n",
    "test_encoded_temp = test_encoded_base.join(diff_df)\n",
    "\n",
    "# reorder the columns\n",
    "test_final = test_encoded_temp[column_order].fillna(0)\n",
    "\n",
    "# get numeric features, we won't worry about encoding these at this point\n",
    "numeric_features = ['duration', 'src_bytes', 'dst_bytes']\n",
    "\n",
    "# model to fit/test\n",
    "to_fit = encoded.join(df[numeric_features])\n",
    "test_set = test_final.join(test_df[numeric_features])"
   ]
  },
  {
   "cell_type": "code",
   "execution_count": 19,
   "metadata": {
    "execution": {
     "iopub.execute_input": "2021-03-04T13:49:54.081060Z",
     "iopub.status.busy": "2021-03-04T13:49:54.080439Z",
     "iopub.status.idle": "2021-03-04T13:49:54.163687Z",
     "shell.execute_reply": "2021-03-04T13:49:54.164217Z"
    },
    "papermill": {
     "duration": 0.12479,
     "end_time": "2021-03-04T13:49:54.164447",
     "exception": false,
     "start_time": "2021-03-04T13:49:54.039657",
     "status": "completed"
    },
    "tags": []
   },
   "outputs": [],
   "source": [
    "# create our target classifications\n",
    "binary_y = df['attack_flag']\n",
    "multi_y = df['attack_map']\n",
    "\n",
    "test_binary_y = test_df['attack_flag']\n",
    "test_multi_y = test_df['attack_map']\n",
    "\n",
    "# build the training sets\n",
    "binary_train_X, binary_val_X, binary_train_y, binary_val_y = train_test_split(to_fit, binary_y, test_size=0.6)\n",
    "multi_train_X, multi_val_X, multi_train_y, multi_val_y = train_test_split(to_fit, multi_y, test_size = 0.6)"
   ]
  },
  {
   "cell_type": "markdown",
   "metadata": {
    "papermill": {
     "duration": 0.037659,
     "end_time": "2021-03-04T13:49:54.240253",
     "exception": false,
     "start_time": "2021-03-04T13:49:54.202594",
     "status": "completed"
    },
    "tags": []
   },
   "source": [
    "Machine Learning model fitting"
   ]
  },
  {
   "cell_type": "code",
   "execution_count": 20,
   "metadata": {
    "execution": {
     "iopub.execute_input": "2021-03-04T13:49:54.325498Z",
     "iopub.status.busy": "2021-03-04T13:49:54.324837Z",
     "iopub.status.idle": "2021-03-04T13:49:54.691673Z",
     "shell.execute_reply": "2021-03-04T13:49:54.691048Z"
    },
    "papermill": {
     "duration": 0.412501,
     "end_time": "2021-03-04T13:49:54.691826",
     "exception": false,
     "start_time": "2021-03-04T13:49:54.279325",
     "status": "completed"
    },
    "tags": []
   },
   "outputs": [
    {
     "name": "stdout",
     "output_type": "stream",
     "text": [
      "Training accuracy is: 0.9946812733190442\n",
      "Testing accuracy is: 0.9928556308213379\n"
     ]
    }
   ],
   "source": [
    "#Decision Tree\n",
    "clf = DecisionTreeClassifier() #max_depth=10\n",
    "clf = clf.fit(binary_train_X, binary_train_y)\n",
    "clf_predictions = clf.predict(binary_val_X) # make prediction\n",
    "train_acc = clf.score(binary_train_X, binary_train_y) # mean acc on train data\n",
    "base_clf_score = accuracy_score(clf_predictions,binary_val_y) # mean acc on test data\n",
    "print(\"Training accuracy is:\", train_acc )\n",
    "print(\"Testing accuracy is:\", base_clf_score)"
   ]
  },
  {
   "cell_type": "code",
   "execution_count": 21,
   "metadata": {
    "execution": {
     "iopub.execute_input": "2021-03-04T13:49:54.778627Z",
     "iopub.status.busy": "2021-03-04T13:49:54.777988Z",
     "iopub.status.idle": "2021-03-04T13:49:54.874783Z",
     "shell.execute_reply": "2021-03-04T13:49:54.874174Z"
    },
    "papermill": {
     "duration": 0.143232,
     "end_time": "2021-03-04T13:49:54.874935",
     "exception": false,
     "start_time": "2021-03-04T13:49:54.731703",
     "status": "completed"
    },
    "tags": []
   },
   "outputs": [
    {
     "name": "stdout",
     "output_type": "stream",
     "text": [
      "F1 Score of Decision trees: 0.9928224640011681\n",
      "Precision of Decision trees: 0.9926794832111241\n",
      "Recall of Decision trees: 0.9929751556245876\n",
      "Accuracy of Decision trees: 0.9928556308213379\n"
     ]
    }
   ],
   "source": [
    "#Decision Tree Performance Metrics\n",
    "from sklearn.metrics import accuracy_score, f1_score, precision_score,recall_score\n",
    "Tree_f1 = f1_score(binary_val_y, clf_predictions, average=\"macro\")\n",
    "Tree_precision = precision_score(binary_val_y, clf_predictions, average=\"macro\")\n",
    "Tree_recall = recall_score(binary_val_y, clf_predictions, average=\"macro\")\n",
    "Tree_accuracy = accuracy_score(binary_val_y, clf_predictions)\n",
    "print(\"F1 Score of Decision trees:\", Tree_f1)\n",
    "print(\"Precision of Decision trees:\", Tree_precision)\n",
    "print(\"Recall of Decision trees:\", Tree_recall)\n",
    "print(\"Accuracy of Decision trees:\", Tree_accuracy)"
   ]
  },
  {
   "cell_type": "code",
   "execution_count": null,
   "metadata": {},
   "outputs": [],
   "source": []
  },
  {
   "cell_type": "code",
   "execution_count": 22,
   "metadata": {
    "execution": {
     "iopub.execute_input": "2021-03-04T13:49:54.957615Z",
     "iopub.status.busy": "2021-03-04T13:49:54.956920Z",
     "iopub.status.idle": "2021-03-04T13:50:00.196443Z",
     "shell.execute_reply": "2021-03-04T13:50:00.195732Z"
    },
    "papermill": {
     "duration": 5.282217,
     "end_time": "2021-03-04T13:50:00.196591",
     "exception": false,
     "start_time": "2021-03-04T13:49:54.914374",
     "status": "completed"
    },
    "tags": []
   },
   "outputs": [],
   "source": [
    "# define the list of models that we want to test\n",
    "models = [\n",
    "    LogisticRegression(max_iter=250),\n",
    "    DecisionTreeClassifier(max_depth=10),\n",
    "]\n",
    "\n",
    "# an empty list to capture the performance of each model\n",
    "model_comps = []\n",
    "\n",
    "# walk through the models and populate our list\n",
    "for model in models:\n",
    "    model_name = model.__class__.__name__\n",
    "    accuracies = cross_val_score(model, binary_train_X, binary_train_y, scoring='accuracy')\n",
    "    for count, accuracy in enumerate(accuracies):\n",
    "        model_comps.append((model_name, count, accuracy))"
   ]
  },
  {
   "cell_type": "code",
   "execution_count": 23,
   "metadata": {
    "execution": {
     "iopub.execute_input": "2021-03-04T13:50:00.288517Z",
     "iopub.status.busy": "2021-03-04T13:50:00.287820Z",
     "iopub.status.idle": "2021-03-04T13:50:00.464502Z",
     "shell.execute_reply": "2021-03-04T13:50:00.463878Z"
    },
    "papermill": {
     "duration": 0.227694,
     "end_time": "2021-03-04T13:50:00.464644",
     "exception": false,
     "start_time": "2021-03-04T13:50:00.236950",
     "status": "completed"
    },
    "tags": []
   },
   "outputs": [
    {
     "data": {
      "text/plain": [
       "<AxesSubplot:>"
      ]
     },
     "execution_count": 23,
     "metadata": {},
     "output_type": "execute_result"
    },
    {
     "data": {
      "image/png": "[encoded data removed]",
      "text/plain": [
       "<Figure size 432x288 with 1 Axes>"
      ]
     },
     "metadata": {
      "needs_background": "light"
     },
     "output_type": "display_data"
    }
   ],
   "source": [
    "# a box plot will do well to show us overall performance and the variation in the models.\n",
    "result_df = pd.DataFrame(model_comps, columns=['model_name', 'count', 'accuracy'])\n",
    "result_df.pivot(index='count',columns='model_name',values='accuracy').boxplot(rot=45)"
   ]
  },
  {
   "cell_type": "markdown",
   "metadata": {
    "papermill": {
     "duration": 0.041369,
     "end_time": "2021-03-04T13:50:00.547393",
     "exception": false,
     "start_time": "2021-03-04T13:50:00.506024",
     "status": "completed"
    },
    "tags": []
   },
   "source": [
    "Analyzing our predictions"
   ]
  },
  {
   "cell_type": "code",
   "execution_count": 24,
   "metadata": {
    "execution": {
     "iopub.execute_input": "2021-03-04T13:50:00.640708Z",
     "iopub.status.busy": "2021-03-04T13:50:00.639702Z",
     "iopub.status.idle": "2021-03-04T13:50:00.643285Z",
     "shell.execute_reply": "2021-03-04T13:50:00.642224Z"
    },
    "papermill": {
     "duration": 0.05396,
     "end_time": "2021-03-04T13:50:00.643442",
     "exception": false,
     "start_time": "2021-03-04T13:50:00.589482",
     "status": "completed"
    },
    "tags": []
   },
   "outputs": [],
   "source": [
    "# a helper function for getting some analytical data about our predictions\n",
    "def add_predictions(data_set,predictions,y):\n",
    "    prediction_series = pd.Series(predictions, index=y.index)\n",
    "\n",
    "    # we need to add the predicted and actual outcomes to the data\n",
    "    predicted_vs_actual = data_set.assign(predicted=prediction_series)\n",
    "    original_data = predicted_vs_actual.assign(actual=y).dropna()\n",
    "    conf_matrix = confusion_matrix(original_data['actual'], \n",
    "                                   original_data['predicted'])\n",
    "    \n",
    "    # capture rows with failed predictions\n",
    "    base_errors = original_data[original_data['actual'] != original_data['predicted']]\n",
    "    \n",
    "    # drop columns with no value\n",
    "    non_zeros = base_errors.loc[:,(base_errors != 0).any(axis=0)]\n",
    "\n",
    "    # idetify the type of error\n",
    "    false_positives = non_zeros.loc[non_zeros.actual==0]\n",
    "    false_negatives = non_zeros.loc[non_zeros.actual==1]\n",
    "\n",
    "    # put everything into an object\n",
    "    prediction_data = {'data': original_data,\n",
    "                       'confusion_matrix': conf_matrix,\n",
    "                       'errors': base_errors,\n",
    "                       'non_zeros': non_zeros,\n",
    "                       'false_positives': false_positives,\n",
    "                       'false_negatives': false_negatives}\n",
    "    return prediction_data"
   ]
  },
  {
   "cell_type": "code",
   "execution_count": 25,
   "metadata": {
    "execution": {
     "iopub.execute_input": "2021-03-04T13:50:00.732593Z",
     "iopub.status.busy": "2021-03-04T13:50:00.731900Z",
     "iopub.status.idle": "2021-03-04T13:50:01.196895Z",
     "shell.execute_reply": "2021-03-04T13:50:01.196340Z"
    },
    "papermill": {
     "duration": 0.512053,
     "end_time": "2021-03-04T13:50:01.197042",
     "exception": false,
     "start_time": "2021-03-04T13:50:00.684989",
     "status": "completed"
    },
    "tags": []
   },
   "outputs": [
    {
     "data": {
      "text/plain": [
       "<AxesSubplot:>"
      ]
     },
     "execution_count": 25,
     "metadata": {},
     "output_type": "execute_result"
    },
    {
     "data": {
      "image/png": "[encoded data removed]",
      "text/plain": [
       "<Figure size 432x288 with 2 Axes>"
      ]
     },
     "metadata": {
      "needs_background": "light"
     },
     "output_type": "display_data"
    }
   ],
   "source": [
    "# capture our prediction data\n",
    "binary_prediction_data = add_predictions(df,\n",
    "                                         clf_predictions,\n",
    "                                         binary_val_y)\n",
    "\n",
    "# create a heatmap of the confusion matrix\n",
    "sns.heatmap(data=binary_prediction_data['confusion_matrix'],\n",
    "            xticklabels = ['Predicted Normal','Predicted Attack'],\n",
    "            yticklabels = ['Actual Normal','Actual Attack'],\n",
    "            cmap=\"YlGnBu\",\n",
    "            fmt='d',\n",
    "            annot=True)"
   ]
  },
  {
   "cell_type": "code",
   "execution_count": 26,
   "metadata": {
    "execution": {
     "iopub.execute_input": "2021-03-04T13:50:01.294848Z",
     "iopub.status.busy": "2021-03-04T13:50:01.294173Z",
     "iopub.status.idle": "2021-03-04T13:50:01.394008Z",
     "shell.execute_reply": "2021-03-04T13:50:01.394654Z"
    },
    "papermill": {
     "duration": 0.153889,
     "end_time": "2021-03-04T13:50:01.394831",
     "exception": false,
     "start_time": "2021-03-04T13:50:01.240942",
     "status": "completed"
    },
    "tags": []
   },
   "outputs": [
    {
     "data": {
      "text/html": [
       "<div>\n",
       "<style scoped>\n",
       "    .dataframe tbody tr th:only-of-type {\n",
       "        vertical-align: middle;\n",
       "    }\n",
       "\n",
       "    .dataframe tbody tr th {\n",
       "        vertical-align: top;\n",
       "    }\n",
       "\n",
       "    .dataframe thead th {\n",
       "        text-align: right;\n",
       "    }\n",
       "</style>\n",
       "<table border=\"1\" class=\"dataframe\">\n",
       "  <thead>\n",
       "    <tr style=\"text-align: right;\">\n",
       "      <th></th>\n",
       "      <th>duration</th>\n",
       "      <th>src_bytes</th>\n",
       "      <th>dst_bytes</th>\n",
       "      <th>land</th>\n",
       "      <th>wrong_fragment</th>\n",
       "      <th>urgent</th>\n",
       "      <th>hot</th>\n",
       "      <th>num_failed_logins</th>\n",
       "      <th>logged_in</th>\n",
       "      <th>num_compromised</th>\n",
       "      <th>...</th>\n",
       "      <th>dst_host_srv_diff_host_rate</th>\n",
       "      <th>dst_host_serror_rate</th>\n",
       "      <th>dst_host_srv_serror_rate</th>\n",
       "      <th>dst_host_rerror_rate</th>\n",
       "      <th>dst_host_srv_rerror_rate</th>\n",
       "      <th>level</th>\n",
       "      <th>attack_flag</th>\n",
       "      <th>attack_map</th>\n",
       "      <th>predicted</th>\n",
       "      <th>actual</th>\n",
       "    </tr>\n",
       "  </thead>\n",
       "  <tbody>\n",
       "    <tr>\n",
       "      <th>count</th>\n",
       "      <td>540.000000</td>\n",
       "      <td>5.400000e+02</td>\n",
       "      <td>540.000000</td>\n",
       "      <td>540.000000</td>\n",
       "      <td>540.000000</td>\n",
       "      <td>540.000000</td>\n",
       "      <td>540.000000</td>\n",
       "      <td>540.000000</td>\n",
       "      <td>540.000000</td>\n",
       "      <td>540.000000</td>\n",
       "      <td>...</td>\n",
       "      <td>540.000000</td>\n",
       "      <td>540.000000</td>\n",
       "      <td>540.000000</td>\n",
       "      <td>540.000000</td>\n",
       "      <td>540.000000</td>\n",
       "      <td>540.000000</td>\n",
       "      <td>540.000000</td>\n",
       "      <td>540.000000</td>\n",
       "      <td>540.000000</td>\n",
       "      <td>540.000000</td>\n",
       "    </tr>\n",
       "    <tr>\n",
       "      <th>mean</th>\n",
       "      <td>104.164815</td>\n",
       "      <td>4.740256e+03</td>\n",
       "      <td>539.042593</td>\n",
       "      <td>0.007407</td>\n",
       "      <td>0.011111</td>\n",
       "      <td>0.003704</td>\n",
       "      <td>0.185185</td>\n",
       "      <td>0.031481</td>\n",
       "      <td>0.098148</td>\n",
       "      <td>0.140741</td>\n",
       "      <td>...</td>\n",
       "      <td>0.043019</td>\n",
       "      <td>0.100167</td>\n",
       "      <td>0.026667</td>\n",
       "      <td>0.341907</td>\n",
       "      <td>0.399148</td>\n",
       "      <td>15.420370</td>\n",
       "      <td>0.346296</td>\n",
       "      <td>0.531481</td>\n",
       "      <td>0.653704</td>\n",
       "      <td>0.346296</td>\n",
       "    </tr>\n",
       "    <tr>\n",
       "      <th>std</th>\n",
       "      <td>1313.047378</td>\n",
       "      <td>1.075841e+05</td>\n",
       "      <td>4196.540583</td>\n",
       "      <td>0.085826</td>\n",
       "      <td>0.182405</td>\n",
       "      <td>0.060802</td>\n",
       "      <td>1.505390</td>\n",
       "      <td>0.280686</td>\n",
       "      <td>0.297791</td>\n",
       "      <td>1.721470</td>\n",
       "      <td>...</td>\n",
       "      <td>0.146439</td>\n",
       "      <td>0.233668</td>\n",
       "      <td>0.116872</td>\n",
       "      <td>0.457068</td>\n",
       "      <td>0.473759</td>\n",
       "      <td>5.272813</td>\n",
       "      <td>0.476230</td>\n",
       "      <td>0.916216</td>\n",
       "      <td>0.476230</td>\n",
       "      <td>0.476230</td>\n",
       "    </tr>\n",
       "    <tr>\n",
       "      <th>min</th>\n",
       "      <td>0.000000</td>\n",
       "      <td>0.000000e+00</td>\n",
       "      <td>0.000000</td>\n",
       "      <td>0.000000</td>\n",
       "      <td>0.000000</td>\n",
       "      <td>0.000000</td>\n",
       "      <td>0.000000</td>\n",
       "      <td>0.000000</td>\n",
       "      <td>0.000000</td>\n",
       "      <td>0.000000</td>\n",
       "      <td>...</td>\n",
       "      <td>0.000000</td>\n",
       "      <td>0.000000</td>\n",
       "      <td>0.000000</td>\n",
       "      <td>0.000000</td>\n",
       "      <td>0.000000</td>\n",
       "      <td>0.000000</td>\n",
       "      <td>0.000000</td>\n",
       "      <td>0.000000</td>\n",
       "      <td>0.000000</td>\n",
       "      <td>0.000000</td>\n",
       "    </tr>\n",
       "    <tr>\n",
       "      <th>25%</th>\n",
       "      <td>0.000000</td>\n",
       "      <td>0.000000e+00</td>\n",
       "      <td>0.000000</td>\n",
       "      <td>0.000000</td>\n",
       "      <td>0.000000</td>\n",
       "      <td>0.000000</td>\n",
       "      <td>0.000000</td>\n",
       "      <td>0.000000</td>\n",
       "      <td>0.000000</td>\n",
       "      <td>0.000000</td>\n",
       "      <td>...</td>\n",
       "      <td>0.000000</td>\n",
       "      <td>0.000000</td>\n",
       "      <td>0.000000</td>\n",
       "      <td>0.000000</td>\n",
       "      <td>0.000000</td>\n",
       "      <td>14.000000</td>\n",
       "      <td>0.000000</td>\n",
       "      <td>0.000000</td>\n",
       "      <td>0.000000</td>\n",
       "      <td>0.000000</td>\n",
       "    </tr>\n",
       "    <tr>\n",
       "      <th>50%</th>\n",
       "      <td>0.000000</td>\n",
       "      <td>0.000000e+00</td>\n",
       "      <td>0.000000</td>\n",
       "      <td>0.000000</td>\n",
       "      <td>0.000000</td>\n",
       "      <td>0.000000</td>\n",
       "      <td>0.000000</td>\n",
       "      <td>0.000000</td>\n",
       "      <td>0.000000</td>\n",
       "      <td>0.000000</td>\n",
       "      <td>...</td>\n",
       "      <td>0.000000</td>\n",
       "      <td>0.000000</td>\n",
       "      <td>0.000000</td>\n",
       "      <td>0.010000</td>\n",
       "      <td>0.020000</td>\n",
       "      <td>18.000000</td>\n",
       "      <td>0.000000</td>\n",
       "      <td>0.000000</td>\n",
       "      <td>1.000000</td>\n",
       "      <td>0.000000</td>\n",
       "    </tr>\n",
       "    <tr>\n",
       "      <th>75%</th>\n",
       "      <td>0.000000</td>\n",
       "      <td>0.000000e+00</td>\n",
       "      <td>0.000000</td>\n",
       "      <td>0.000000</td>\n",
       "      <td>0.000000</td>\n",
       "      <td>0.000000</td>\n",
       "      <td>0.000000</td>\n",
       "      <td>0.000000</td>\n",
       "      <td>0.000000</td>\n",
       "      <td>0.000000</td>\n",
       "      <td>...</td>\n",
       "      <td>0.020000</td>\n",
       "      <td>0.050000</td>\n",
       "      <td>0.010000</td>\n",
       "      <td>1.000000</td>\n",
       "      <td>1.000000</td>\n",
       "      <td>19.000000</td>\n",
       "      <td>1.000000</td>\n",
       "      <td>1.000000</td>\n",
       "      <td>1.000000</td>\n",
       "      <td>1.000000</td>\n",
       "    </tr>\n",
       "    <tr>\n",
       "      <th>max</th>\n",
       "      <td>25253.000000</td>\n",
       "      <td>2.500058e+06</td>\n",
       "      <td>70529.000000</td>\n",
       "      <td>1.000000</td>\n",
       "      <td>3.000000</td>\n",
       "      <td>1.000000</td>\n",
       "      <td>24.000000</td>\n",
       "      <td>4.000000</td>\n",
       "      <td>1.000000</td>\n",
       "      <td>38.000000</td>\n",
       "      <td>...</td>\n",
       "      <td>1.000000</td>\n",
       "      <td>1.000000</td>\n",
       "      <td>1.000000</td>\n",
       "      <td>1.000000</td>\n",
       "      <td>1.000000</td>\n",
       "      <td>21.000000</td>\n",
       "      <td>1.000000</td>\n",
       "      <td>4.000000</td>\n",
       "      <td>1.000000</td>\n",
       "      <td>1.000000</td>\n",
       "    </tr>\n",
       "  </tbody>\n",
       "</table>\n",
       "<p>8 rows × 43 columns</p>\n",
       "</div>"
      ],
      "text/plain": [
       "           duration     src_bytes     dst_bytes        land  wrong_fragment  \\\n",
       "count    540.000000  5.400000e+02    540.000000  540.000000      540.000000   \n",
       "mean     104.164815  4.740256e+03    539.042593    0.007407        0.011111   \n",
       "std     1313.047378  1.075841e+05   4196.540583    0.085826        0.182405   \n",
       "min        0.000000  0.000000e+00      0.000000    0.000000        0.000000   \n",
       "25%        0.000000  0.000000e+00      0.000000    0.000000        0.000000   \n",
       "50%        0.000000  0.000000e+00      0.000000    0.000000        0.000000   \n",
       "75%        0.000000  0.000000e+00      0.000000    0.000000        0.000000   \n",
       "max    25253.000000  2.500058e+06  70529.000000    1.000000        3.000000   \n",
       "\n",
       "           urgent         hot  num_failed_logins   logged_in  num_compromised  \\\n",
       "count  540.000000  540.000000         540.000000  540.000000       540.000000   \n",
       "mean     0.003704    0.185185           0.031481    0.098148         0.140741   \n",
       "std      0.060802    1.505390           0.280686    0.297791         1.721470   \n",
       "min      0.000000    0.000000           0.000000    0.000000         0.000000   \n",
       "25%      0.000000    0.000000           0.000000    0.000000         0.000000   \n",
       "50%      0.000000    0.000000           0.000000    0.000000         0.000000   \n",
       "75%      0.000000    0.000000           0.000000    0.000000         0.000000   \n",
       "max      1.000000   24.000000           4.000000    1.000000        38.000000   \n",
       "\n",
       "       ...  dst_host_srv_diff_host_rate  dst_host_serror_rate  \\\n",
       "count  ...                   540.000000            540.000000   \n",
       "mean   ...                     0.043019              0.100167   \n",
       "std    ...                     0.146439              0.233668   \n",
       "min    ...                     0.000000              0.000000   \n",
       "25%    ...                     0.000000              0.000000   \n",
       "50%    ...                     0.000000              0.000000   \n",
       "75%    ...                     0.020000              0.050000   \n",
       "max    ...                     1.000000              1.000000   \n",
       "\n",
       "       dst_host_srv_serror_rate  dst_host_rerror_rate  \\\n",
       "count                540.000000            540.000000   \n",
       "mean                   0.026667              0.341907   \n",
       "std                    0.116872              0.457068   \n",
       "min                    0.000000              0.000000   \n",
       "25%                    0.000000              0.000000   \n",
       "50%                    0.000000              0.010000   \n",
       "75%                    0.010000              1.000000   \n",
       "max                    1.000000              1.000000   \n",
       "\n",
       "       dst_host_srv_rerror_rate       level  attack_flag  attack_map  \\\n",
       "count                540.000000  540.000000   540.000000  540.000000   \n",
       "mean                   0.399148   15.420370     0.346296    0.531481   \n",
       "std                    0.473759    5.272813     0.476230    0.916216   \n",
       "min                    0.000000    0.000000     0.000000    0.000000   \n",
       "25%                    0.000000   14.000000     0.000000    0.000000   \n",
       "50%                    0.020000   18.000000     0.000000    0.000000   \n",
       "75%                    1.000000   19.000000     1.000000    1.000000   \n",
       "max                    1.000000   21.000000     1.000000    4.000000   \n",
       "\n",
       "        predicted      actual  \n",
       "count  540.000000  540.000000  \n",
       "mean     0.653704    0.346296  \n",
       "std      0.476230    0.476230  \n",
       "min      0.000000    0.000000  \n",
       "25%      0.000000    0.000000  \n",
       "50%      1.000000    0.000000  \n",
       "75%      1.000000    1.000000  \n",
       "max      1.000000    1.000000  \n",
       "\n",
       "[8 rows x 43 columns]"
      ]
     },
     "execution_count": 26,
     "metadata": {},
     "output_type": "execute_result"
    }
   ],
   "source": [
    "# dataframe to store incorrect classification\n",
    "binary_prediction_data['errors'].describe()"
   ]
  },
  {
   "cell_type": "code",
   "execution_count": 27,
   "metadata": {
    "execution": {
     "iopub.execute_input": "2021-03-04T13:50:01.485614Z",
     "iopub.status.busy": "2021-03-04T13:50:01.484952Z",
     "iopub.status.idle": "2021-03-04T13:50:01.495061Z",
     "shell.execute_reply": "2021-03-04T13:50:01.494417Z"
    },
    "papermill": {
     "duration": 0.057185,
     "end_time": "2021-03-04T13:50:01.495223",
     "exception": false,
     "start_time": "2021-03-04T13:50:01.438038",
     "status": "completed"
    },
    "tags": []
   },
   "outputs": [
    {
     "data": {
      "text/plain": [
       "duration                       601.442145\n",
       "src_bytes                      796.245581\n",
       "dst_bytes                      861.524900\n",
       "land                             0.105995\n",
       "wrong_fragment                   0.000000\n",
       "urgent                           0.053225\n",
       "hot                              1.300710\n",
       "num_failed_logins                0.248968\n",
       "logged_in                        0.236875\n",
       "num_compromised                  0.371794\n",
       "root_shell                       0.000000\n",
       "su_attempted                     0.000000\n",
       "num_root                         0.106449\n",
       "num_file_creations               0.118879\n",
       "num_shells                       0.000000\n",
       "num_access_files                 0.000000\n",
       "is_guest_login                   0.075164\n",
       "count                            1.833759\n",
       "srv_count                        4.060898\n",
       "serror_rate                      0.331789\n",
       "srv_serror_rate                  0.314094\n",
       "rerror_rate                      0.452080\n",
       "srv_rerror_rate                  0.449226\n",
       "same_srv_rate                    0.065443\n",
       "diff_srv_rate                    0.074588\n",
       "srv_diff_host_rate               0.273896\n",
       "dst_host_count                  90.016826\n",
       "dst_host_srv_count             107.553358\n",
       "dst_host_same_srv_rate           0.389577\n",
       "dst_host_diff_srv_rate           0.124290\n",
       "dst_host_same_src_port_rate      0.291214\n",
       "dst_host_srv_diff_host_rate      0.124260\n",
       "dst_host_serror_rate             0.271835\n",
       "dst_host_srv_serror_rate         0.131057\n",
       "dst_host_rerror_rate             0.317931\n",
       "dst_host_srv_rerror_rate         0.401436\n",
       "level                            3.930965\n",
       "attack_flag                      0.000000\n",
       "attack_map                       0.000000\n",
       "predicted                        0.000000\n",
       "actual                           0.000000\n",
       "dtype: float64"
      ]
     },
     "execution_count": 27,
     "metadata": {},
     "output_type": "execute_result"
    }
   ],
   "source": [
    "# see the standard deviation of the false positives\n",
    "binary_prediction_data['false_positives'].std()"
   ]
  },
  {
   "cell_type": "code",
   "execution_count": 28,
   "metadata": {
    "execution": {
     "iopub.execute_input": "2021-03-04T13:50:01.593203Z",
     "iopub.status.busy": "2021-03-04T13:50:01.589319Z",
     "iopub.status.idle": "2021-03-04T13:50:01.597685Z",
     "shell.execute_reply": "2021-03-04T13:50:01.597179Z"
    },
    "papermill": {
     "duration": 0.058474,
     "end_time": "2021-03-04T13:50:01.597822",
     "exception": false,
     "start_time": "2021-03-04T13:50:01.539348",
     "status": "completed"
    },
    "tags": []
   },
   "outputs": [
    {
     "data": {
      "text/plain": [
       "duration                       2.070261e+03\n",
       "src_bytes                      1.828117e+05\n",
       "dst_bytes                      6.983060e+03\n",
       "land                           0.000000e+00\n",
       "wrong_fragment                 3.094175e-01\n",
       "urgent                         7.312724e-02\n",
       "hot                            1.823394e+00\n",
       "num_failed_logins              3.325273e-01\n",
       "logged_in                      3.776275e-01\n",
       "num_compromised                2.874065e+00\n",
       "root_shell                     2.146120e-01\n",
       "su_attempted                   7.312724e-02\n",
       "num_root                       4.133969e+00\n",
       "num_file_creations             2.119795e+00\n",
       "num_shells                     2.048798e-01\n",
       "num_access_files               1.783201e-01\n",
       "is_guest_login                 1.450702e-01\n",
       "count                          1.253798e+02\n",
       "srv_count                      1.144446e+01\n",
       "serror_rate                    7.367264e-02\n",
       "srv_serror_rate                7.312724e-02\n",
       "rerror_rate                    4.426985e-01\n",
       "srv_rerror_rate                4.568683e-01\n",
       "same_srv_rate                  4.336113e-01\n",
       "diff_srv_rate                  2.630448e-01\n",
       "srv_diff_host_rate             1.031392e-01\n",
       "dst_host_count                 9.770628e+01\n",
       "dst_host_srv_count             1.504509e+01\n",
       "dst_host_same_srv_rate         2.987087e-01\n",
       "dst_host_diff_srv_rate         2.954161e-01\n",
       "dst_host_same_src_port_rate    2.931527e-01\n",
       "dst_host_srv_diff_host_rate    1.814431e-01\n",
       "dst_host_serror_rate           8.337219e-02\n",
       "dst_host_srv_serror_rate       8.206730e-02\n",
       "dst_host_rerror_rate           4.223996e-01\n",
       "dst_host_srv_rerror_rate       4.442315e-01\n",
       "level                          7.013110e+00\n",
       "attack_flag                    1.113203e-16\n",
       "attack_map                     9.404988e-01\n",
       "predicted                      0.000000e+00\n",
       "actual                         0.000000e+00\n",
       "dtype: float64"
      ]
     },
     "execution_count": 28,
     "metadata": {},
     "output_type": "execute_result"
    }
   ],
   "source": [
    "# see the standard deviation of the false negatives\n",
    "binary_prediction_data['false_negatives'].std()"
   ]
  }
 ],
 "metadata": {
  "kernelspec": {
   "display_name": "Python 3",
   "language": "python",
   "name": "python3"
  },
  "language_info": {
   "codemirror_mode": {
    "name": "ipython",
    "version": 3
   },
   "file_extension": ".py",
   "mimetype": "text/x-python",
   "name": "python",
   "nbconvert_exporter": "python",
   "pygments_lexer": "ipython3",
   "version": "3.8.8"
  },
  "papermill": {
   "default_parameters": {},
   "duration": 23.024364,
   "end_time": "2021-03-04T13:50:02.352789",
   "environment_variables": {},
   "exception": null,
   "input_path": "__notebook__.ipynb",
   "output_path": "__notebook__.ipynb",
   "parameters": {},
   "start_time": "2021-03-04T13:49:39.328425",
   "version": "2.2.2"
  }
 },
 "nbformat": 4,
 "nbformat_minor": 4
}
